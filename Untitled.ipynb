{
 "cells": [
  {
   "cell_type": "markdown",
   "id": "73777ef8-d226-4b51-b7bb-a13f18e351ca",
   "metadata": {},
   "source": [
    "# Predicting Newsletter Subscription in Minecraft Players\n",
    "\n",
    "\n",
    "**Author**: WangMengmeng\n",
    "**Course**: DSCI100  \n",
    "**Date**: 2025-06-23"
   ]
  },
  {
   "cell_type": "markdown",
   "id": "46f071a1-0d73-4d8d-aff6-d1127b5b264d",
   "metadata": {},
   "source": [
    "## 1. Introduction\n",
    "\n",
    "### Background  \n",
    "A UBC Computer Science team led by Frank Wood records how players interact with a Minecraft server.  \n",
    "Understanding who subscribes to the newsletter helps focus recruitment and resource planning.\n",
    "\n",
    "### Research Question  \n",
    "**Can we predict whether a player subscribes to the game-related newsletter using their demographics and play behaviour?**  \n",
    "- **Response**: `subscribed` (0 = no, 1 = yes)  \n",
    "- **Features**: age, country, total play time, number of sessions, etc."
   ]
  },
  {
   "cell_type": "code",
   "execution_count": null,
   "id": "1f5f33df-d69a-4221-9ec6-7a49ec85e64c",
   "metadata": {},
   "outputs": [],
   "source": []
  }
 ],
 "metadata": {
  "kernelspec": {
   "display_name": "R",
   "language": "R",
   "name": "ir"
  },
  "language_info": {
   "codemirror_mode": "r",
   "file_extension": ".r",
   "mimetype": "text/x-r-source",
   "name": "R",
   "pygments_lexer": "r",
   "version": "4.3.3"
  }
 },
 "nbformat": 4,
 "nbformat_minor": 5
}
